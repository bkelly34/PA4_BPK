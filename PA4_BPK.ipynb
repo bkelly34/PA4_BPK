{
 "cells": [
  {
   "cell_type": "markdown",
   "id": "93f36a03-9a1f-4773-9595-087582cb31c4",
   "metadata": {},
   "source": [
    "# Working with Lists and Tuples\n",
    "___\n",
    "**Author:** Ben Kelly \n",
    "**Version:** 1.0  \n",
    "**Semester:** Spring 2024 "
   ]
  },
  {
   "cell_type": "markdown",
   "id": "167c3edc-8fe8-4ca6-8ea1-430af0a30df6",
   "metadata": {},
   "source": [
    "### Problem 1 – Swapping List Elements."
   ]
  },
  {
   "cell_type": "code",
   "execution_count": 13,
   "id": "9d3a8178-282b-4f7b-875f-8706b8043552",
   "metadata": {
    "tags": []
   },
   "outputs": [
    {
     "name": "stdout",
     "output_type": "stream",
     "text": [
      "Original List: [61, 44, 59, 63, 99, 97, 21, 76, 12, 18]\n",
      "Swapped List: [18, 44, 59, 63, 99, 97, 21, 76, 12, 61]\n"
     ]
    }
   ],
   "source": [
    "import random\n",
    "\n",
    "random_list = []\n",
    "for n in range(10):\n",
    "    random_list.append(random.randint(1,101))\n",
    "\n",
    "print(\"Original List:\" , random_list) #to show the original list before swap\n",
    "\n",
    "def swap_first_last(random_list):\n",
    "    random_list[0], random_list[-1] = random_list[-1], random_list[0]\n",
    "    \n",
    "    return random_list\n",
    "print(\"Swapped List:\" , swap_first_last(random_list))\n",
    "\n"
   ]
  },
  {
   "cell_type": "markdown",
   "id": "1bd5c641-f36a-4517-8155-98bf1ce41eb7",
   "metadata": {},
   "source": [
    "### Problem 2 - Encoding Data."
   ]
  },
  {
   "cell_type": "code",
   "execution_count": 19,
   "id": "fe167b24-74a3-471d-ab28-8159717efa85",
   "metadata": {},
   "outputs": [
    {
     "name": "stdout",
     "output_type": "stream",
     "text": [
      "Original List: [98, 11, 54, 74, 96, 61, 9, 33, 81, 21]\n",
      "Encoded List: [1, -1, 1, 1, 1, -1, -1, -1, -1, -1]\n"
     ]
    }
   ],
   "source": [
    "import random\n",
    "\n",
    "rand_list = []\n",
    "for n in range(10):\n",
    "    rand_list.append(random.randint(1,101))\n",
    "    \n",
    "print(\"Original List:\" , rand_list)\n",
    "\n",
    "def encode(rand_list):\n",
    "    encoded_list = []\n",
    "    for number in rand_list:\n",
    "        if number % 2 == 0:\n",
    "            encoded_list.append(1) #adds 1 to empty encoded list if even, -1 if odd\n",
    "        else:\n",
    "            encoded_list.append(-1)\n",
    "    return encoded_list\n",
    "print(\"Encoded List:\" , encode(rand_list))"
   ]
  },
  {
   "cell_type": "markdown",
   "id": "575effe6-fa05-4244-8133-ee49fa6258ac",
   "metadata": {},
   "source": [
    "### Problem 3 - Rotating Tuples."
   ]
  },
  {
   "cell_type": "code",
   "execution_count": 24,
   "id": "9dddded7-4fdf-4863-8983-0faec370ee39",
   "metadata": {
    "tags": []
   },
   "outputs": [
    {
     "name": "stdout",
     "output_type": "stream",
     "text": [
      "Rotated Tuple: (41, 'John', 'Kennedy')\n"
     ]
    }
   ],
   "source": [
    "three_tuple = ('John', 'Kennedy', 41)\n",
    "a, b, c = three_tuple\n",
    "\n",
    "def rotate(three_tuple):\n",
    "    a, b, c = three_tuple\n",
    "    rotate_tuple = (c, a, b)\n",
    "    return rotate_tuple\n",
    "\n",
    "rotated = rotate(three_tuple)\n",
    "print(\"Rotated Tuple:\", rotated) #couldn't get to return as (c, a, b), only as 41, John, Kennedy\n",
    "    "
   ]
  },
  {
   "cell_type": "code",
   "execution_count": 25,
   "id": "cc3e2a39-6069-4201-88e9-c5d547e41aa9",
   "metadata": {
    "tags": []
   },
   "outputs": [
    {
     "data": {
      "text/plain": [
       "'John'"
      ]
     },
     "execution_count": 25,
     "metadata": {},
     "output_type": "execute_result"
    }
   ],
   "source": [
    "a"
   ]
  },
  {
   "cell_type": "code",
   "execution_count": 26,
   "id": "b55017bc-0f0c-4d3b-ae5d-c89aa517b032",
   "metadata": {
    "tags": []
   },
   "outputs": [
    {
     "data": {
      "text/plain": [
       "'Kennedy'"
      ]
     },
     "execution_count": 26,
     "metadata": {},
     "output_type": "execute_result"
    }
   ],
   "source": [
    "b"
   ]
  },
  {
   "cell_type": "code",
   "execution_count": 27,
   "id": "77fb3c20-e8b2-407f-a6ba-b07f9474bb05",
   "metadata": {
    "tags": []
   },
   "outputs": [
    {
     "data": {
      "text/plain": [
       "41"
      ]
     },
     "execution_count": 27,
     "metadata": {},
     "output_type": "execute_result"
    }
   ],
   "source": [
    "c"
   ]
  },
  {
   "cell_type": "markdown",
   "id": "b067cc9a-8ceb-4f31-adca-78e5196a4435",
   "metadata": {},
   "source": [
    "### Problem 4 - Creating a List of Tuples."
   ]
  },
  {
   "cell_type": "code",
   "execution_count": 28,
   "id": "489c641f-a604-4bb2-8d0b-d5681588491b",
   "metadata": {
    "tags": []
   },
   "outputs": [
    {
     "name": "stdout",
     "output_type": "stream",
     "text": [
      "[('William', 'McKinley', 25), ('Theodore', 'Roosevelt', 26), ('William', 'Taft', 27), ('Woodrow', 'Wilson', 28), ('Warren', 'Harding', 29), ('Calvin', 'Coolidge', 30), ('Herbert', 'Hoover', 31), ('Franklin', 'Roosevelt', 32), ('Harry', 'Truman', 33), ('Dwight', 'Eisenhower', 34), ('John', 'Kennedy', 35), ('Lyndon', 'Johnson', 36), ('Richard', 'Nixon', 37), ('Gerald', 'Ford', 38), ('James', 'Carter', 39), ('Ronald', 'Reagan', 40), ('George', 'Bush', 41), ('William', 'Clinton', 42)]\n"
     ]
    }
   ],
   "source": [
    "first = [\"William\", \"Theodore\", \"William\", \"Woodrow\", \"Warren\", \"Calvin\", \"Herbert\", \"Franklin\", \"Harry\", \"Dwight\", \"John\", \"Lyndon\", \"Richard\", \"Gerald\", \"James\", \"Ronald\", \"George\", \"William\"]\n",
    "last = [\"McKinley\", \"Roosevelt\", \"Taft\", \"Wilson\", \"Harding\", \"Coolidge\", \"Hoover\", \"Roosevelt\", \"Truman\", \"Eisenhower\", \"Kennedy\", \"Johnson\", \"Nixon\", \"Ford\", \"Carter\", \"Reagan\", \"Bush\", \"Clinton\"]\n",
    "order = list(range(25, 43))\n",
    "\n",
    "def combine_lists(first, last, order):\n",
    "    presidents = list(zip(first, last, order)) #puts them together\n",
    "    return presidents\n",
    "\n",
    "president = combine_lists(first, last, order)\n",
    "\n",
    "print(president)\n",
    "    "
   ]
  },
  {
   "cell_type": "markdown",
   "id": "f84e7d61-1761-40ab-b488-eee70243c593",
   "metadata": {},
   "source": [
    "### Problem 5 - Finding Perfect Numbers."
   ]
  },
  {
   "cell_type": "code",
   "execution_count": 33,
   "id": "00decd90-3fe3-4202-a9d5-4d4ff4cc642e",
   "metadata": {
    "tags": []
   },
   "outputs": [
    {
     "name": "stdout",
     "output_type": "stream",
     "text": [
      "Perfect Numbers: [6, 28]\n"
     ]
    }
   ],
   "source": [
    "def perfect_numbers(n):\n",
    "    variable_sum = 0\n",
    "    for i in range(1, n//2 +1):\n",
    "        if n % i == 0:\n",
    "            variable_sum += i #if divisor, adds \n",
    "    return variable_sum == n\n",
    "\n",
    "number_range = list(range(1,101))\n",
    "\n",
    "perfect_number = list(filter(perfect_numbers, number_range)) #retrieves list of perfect numbers from number_range\n",
    "print(\"Perfect Numbers:\" , perfect_number)"
   ]
  }
 ],
 "metadata": {
  "kernelspec": {
   "display_name": "Python 3 (ipykernel)",
   "language": "python",
   "name": "python3"
  },
  "language_info": {
   "codemirror_mode": {
    "name": "ipython",
    "version": 3
   },
   "file_extension": ".py",
   "mimetype": "text/x-python",
   "name": "python",
   "nbconvert_exporter": "python",
   "pygments_lexer": "ipython3",
   "version": "3.11.5"
  }
 },
 "nbformat": 4,
 "nbformat_minor": 5
}
